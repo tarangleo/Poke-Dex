{
 "cells": [
  {
   "cell_type": "code",
   "execution_count": 1,
   "id": "3502b333-322a-459d-bee2-1c088ef9f998",
   "metadata": {},
   "outputs": [],
   "source": [
    "\n",
    "from keras.preprocessing import image"
   ]
  },
  {
   "cell_type": "code",
   "execution_count": 2,
   "id": "e7272274-f648-457e-82e8-45fa712dbdef",
   "metadata": {},
   "outputs": [],
   "source": [
    "import numpy as np\n",
    "import pandas as pd\n",
    "import matplotlib.pyplot as plt\n",
    "import glob\n",
    "import os"
   ]
  },
  {
   "cell_type": "code",
   "execution_count": 3,
   "id": "9159bebe-42db-449f-9339-2f54b5549f2a",
   "metadata": {},
   "outputs": [],
   "source": [
    "data=pd.read_csv(\"Train/train.csv\")"
   ]
  },
  {
   "cell_type": "code",
   "execution_count": 4,
   "id": "49ed4096-ab7f-4e6a-88cc-5f331ae3add9",
   "metadata": {},
   "outputs": [
    {
     "data": {
      "text/html": [
       "<div>\n",
       "<style scoped>\n",
       "    .dataframe tbody tr th:only-of-type {\n",
       "        vertical-align: middle;\n",
       "    }\n",
       "\n",
       "    .dataframe tbody tr th {\n",
       "        vertical-align: top;\n",
       "    }\n",
       "\n",
       "    .dataframe thead th {\n",
       "        text-align: right;\n",
       "    }\n",
       "</style>\n",
       "<table border=\"1\" class=\"dataframe\">\n",
       "  <thead>\n",
       "    <tr style=\"text-align: right;\">\n",
       "      <th></th>\n",
       "      <th>ImageId</th>\n",
       "      <th>NameOfPokemon</th>\n",
       "    </tr>\n",
       "  </thead>\n",
       "  <tbody>\n",
       "    <tr>\n",
       "      <th>0</th>\n",
       "      <td>296.jpg</td>\n",
       "      <td>Pikachu</td>\n",
       "    </tr>\n",
       "    <tr>\n",
       "      <th>1</th>\n",
       "      <td>297.jpg</td>\n",
       "      <td>Pikachu</td>\n",
       "    </tr>\n",
       "    <tr>\n",
       "      <th>2</th>\n",
       "      <td>298.jpg</td>\n",
       "      <td>Pikachu</td>\n",
       "    </tr>\n",
       "    <tr>\n",
       "      <th>3</th>\n",
       "      <td>299.jpg</td>\n",
       "      <td>Pikachu</td>\n",
       "    </tr>\n",
       "    <tr>\n",
       "      <th>4</th>\n",
       "      <td>300.jpg</td>\n",
       "      <td>Pikachu</td>\n",
       "    </tr>\n",
       "  </tbody>\n",
       "</table>\n",
       "</div>"
      ],
      "text/plain": [
       "   ImageId NameOfPokemon\n",
       "0  296.jpg       Pikachu\n",
       "1  297.jpg       Pikachu\n",
       "2  298.jpg       Pikachu\n",
       "3  299.jpg       Pikachu\n",
       "4  300.jpg       Pikachu"
      ]
     },
     "execution_count": 4,
     "metadata": {},
     "output_type": "execute_result"
    }
   ],
   "source": [
    "data.head()"
   ]
  },
  {
   "cell_type": "code",
   "execution_count": 5,
   "id": "a37b3c3c-a816-42b5-bc16-2a0ab0e39d8a",
   "metadata": {},
   "outputs": [],
   "source": [
    "data=data.values"
   ]
  },
  {
   "cell_type": "code",
   "execution_count": 6,
   "id": "8cc4ed26-16f0-406e-b8a4-6ed18a18ba4f",
   "metadata": {},
   "outputs": [],
   "source": [
    "X=data[:,:-1]\n",
    "Y=data[:,-1]"
   ]
  },
  {
   "cell_type": "code",
   "execution_count": null,
   "id": "16aeac39-e5d5-472d-acec-290ecf2e0302",
   "metadata": {},
   "outputs": [],
   "source": []
  },
  {
   "cell_type": "code",
   "execution_count": 7,
   "id": "5cf045cb-2095-4b9b-b3cd-f87cdebf0471",
   "metadata": {},
   "outputs": [],
   "source": [
    "import cv2 as cv"
   ]
  },
  {
   "cell_type": "code",
   "execution_count": 8,
   "id": "6ac31392-99c4-4a58-ad15-fb3a52192fae",
   "metadata": {},
   "outputs": [],
   "source": [
    "path1=\"Test/Images/\""
   ]
  },
  {
   "cell_type": "code",
   "execution_count": 9,
   "id": "1a1ba7d3-5c2e-4249-bbbc-d5a8ca69bb43",
   "metadata": {},
   "outputs": [],
   "source": [
    "folder1=glob.glob(path1+\"*.jpg\")"
   ]
  },
  {
   "cell_type": "code",
   "execution_count": 10,
   "id": "235d2a51-d8a0-41ec-944b-99e876ac19e7",
   "metadata": {},
   "outputs": [],
   "source": [
    "image_list1=[]\n",
    "label_list1=[]"
   ]
  },
  {
   "cell_type": "code",
   "execution_count": 11,
   "id": "8af7882d-61ec-46db-b039-66eb7d1a158a",
   "metadata": {},
   "outputs": [],
   "source": [
    "for i in folder1:\n",
    "    \n",
    "    img = image.load_img(i,target_size=(30,30))\n",
    "    if img is None:\n",
    "        print(i)\n",
    "    # img=image.load_img(i),\n",
    "    img_arr=image.img_to_array(img)\n",
    "    image_list1.append(img_arr)\n",
    "    label=str(i.split(\"\\\\\")[-1][:])\n",
    "    label_list1.append([label])"
   ]
  },
  {
   "cell_type": "code",
   "execution_count": 12,
   "id": "a02da85c-ba53-4432-8c7b-528b3c483dae",
   "metadata": {},
   "outputs": [],
   "source": [
    "image_list1=np.array(image_list1,dtype='float32')/255.0"
   ]
  },
  {
   "cell_type": "code",
   "execution_count": 13,
   "id": "d9451fd9-a8b4-4e7a-996d-01a5daaefec2",
   "metadata": {},
   "outputs": [],
   "source": [
    "#label_list1"
   ]
  },
  {
   "cell_type": "code",
   "execution_count": 14,
   "id": "7b48004f-aa97-43bd-9ecf-6198b504b532",
   "metadata": {},
   "outputs": [],
   "source": [
    "#image_list1"
   ]
  },
  {
   "cell_type": "code",
   "execution_count": 15,
   "id": "1ceb1a29-68c0-4edc-9841-099b9ae564c6",
   "metadata": {},
   "outputs": [],
   "source": [
    "image_list1=image_list1.reshape(image_list1.shape[0],-1)"
   ]
  },
  {
   "cell_type": "code",
   "execution_count": 16,
   "id": "3b986406-31b8-4155-b976-b504935cffa2",
   "metadata": {},
   "outputs": [],
   "source": [
    "image_id=[]"
   ]
  },
  {
   "cell_type": "code",
   "execution_count": 17,
   "id": "526fee60-c7b6-435a-b67b-01cab21a5fd4",
   "metadata": {},
   "outputs": [],
   "source": [
    "for i in folder1:\n",
    "    image_id.append(i[-8:])"
   ]
  },
  {
   "cell_type": "code",
   "execution_count": 18,
   "id": "aab2815a-2f63-4769-8cbb-47a5ef2a7cf5",
   "metadata": {},
   "outputs": [
    {
     "data": {
      "text/plain": [
       "'1100.jpg'"
      ]
     },
     "execution_count": 18,
     "metadata": {},
     "output_type": "execute_result"
    }
   ],
   "source": [
    "image_id[0]"
   ]
  },
  {
   "cell_type": "code",
   "execution_count": null,
   "id": "d9036aac-90f3-4d29-9f9e-86c761dc4547",
   "metadata": {},
   "outputs": [],
   "source": []
  },
  {
   "cell_type": "code",
   "execution_count": null,
   "id": "875f4963-751b-4a66-a474-a1a2f46c0f5f",
   "metadata": {},
   "outputs": [],
   "source": []
  },
  {
   "cell_type": "code",
   "execution_count": 19,
   "id": "517a30ed-5a27-4187-b80d-1135c0b2bb65",
   "metadata": {},
   "outputs": [],
   "source": [
    "path=\"Train/Images/\""
   ]
  },
  {
   "cell_type": "code",
   "execution_count": 20,
   "id": "5c4dee4e-10a4-48c5-a7d5-18d2d51b7dac",
   "metadata": {},
   "outputs": [],
   "source": [
    "folder=glob.glob(path+\"*.jpg\")"
   ]
  },
  {
   "cell_type": "code",
   "execution_count": 21,
   "id": "2b371163-52e7-42d1-b11a-f3d1c0e97c18",
   "metadata": {},
   "outputs": [],
   "source": [
    "image_list=[]"
   ]
  },
  {
   "cell_type": "code",
   "execution_count": 22,
   "id": "3a94886d-354f-46d5-bbf7-caf5841ef569",
   "metadata": {},
   "outputs": [],
   "source": [
    "label_list=[]"
   ]
  },
  {
   "cell_type": "code",
   "execution_count": 23,
   "id": "8d31676a-c89a-4f13-ae6b-44501a86e723",
   "metadata": {},
   "outputs": [
    {
     "name": "stderr",
     "output_type": "stream",
     "text": [
      "C:\\Users\\taran\\AppData\\Roaming\\Python\\Python39\\site-packages\\PIL\\Image.py:975: UserWarning: Palette images with Transparency expressed in bytes should be converted to RGBA images\n",
      "  warnings.warn(\n"
     ]
    }
   ],
   "source": [
    "for i in folder:\n",
    "    img = image.load_img(i,target_size=(30,30))\n",
    "    if img is None:\n",
    "        print(i)\n",
    "    # img=image.load_img(i),\n",
    "    img_arr=image.img_to_array(img)\n",
    "    image_list.append(img_arr)\n",
    "    label=str(i.split(\"\\\\\")[-1][:])\n",
    "    label_list.append([label])\n",
    "    #value=(int(label[:-4])-296)/100\n",
    "\n"
   ]
  },
  {
   "cell_type": "code",
   "execution_count": null,
   "id": "ebdb34ca-633f-4b47-ae00-363871d3ac0f",
   "metadata": {},
   "outputs": [],
   "source": []
  },
  {
   "cell_type": "code",
   "execution_count": null,
   "id": "53f12c0b-d391-4093-81ca-76bd33f8433c",
   "metadata": {},
   "outputs": [],
   "source": []
  },
  {
   "cell_type": "code",
   "execution_count": null,
   "id": "326f8bdc-f59b-4df4-b4c0-e2592905db0d",
   "metadata": {},
   "outputs": [],
   "source": []
  },
  {
   "cell_type": "code",
   "execution_count": 24,
   "id": "ca630415-7eb3-42b5-ba92-6e43ce477d03",
   "metadata": {},
   "outputs": [],
   "source": [
    "image_list=np.array(image_list,dtype='float32')/255.0"
   ]
  },
  {
   "cell_type": "code",
   "execution_count": 25,
   "id": "7e32da67-4c8a-47b9-8abf-6d53ced70997",
   "metadata": {},
   "outputs": [
    {
     "name": "stdout",
     "output_type": "stream",
     "text": [
      "(304, 30, 30, 3)\n"
     ]
    }
   ],
   "source": [
    "print(image_list.shape)"
   ]
  },
  {
   "cell_type": "code",
   "execution_count": 26,
   "id": "ae9c4396-cbf8-4f74-8aed-ff9856648637",
   "metadata": {},
   "outputs": [
    {
     "data": {
      "text/plain": [
       "<matplotlib.image.AxesImage at 0x2ac6f4ca9d0>"
      ]
     },
     "execution_count": 26,
     "metadata": {},
     "output_type": "execute_result"
    },
    {
     "data": {
      "image/png": "[encoded data removed]",
      "text/plain": [
       "<Figure size 432x288 with 1 Axes>"
      ]
     },
     "metadata": {
      "needs_background": "light"
     },
     "output_type": "display_data"
    }
   ],
   "source": [
    "plt.imshow(image_list[282])\n"
   ]
  },
  {
   "cell_type": "code",
   "execution_count": 27,
   "id": "a9dd2973-e7ab-4696-b3d7-3bb048b54ed1",
   "metadata": {},
   "outputs": [],
   "source": [
    "label_list=np.array(label_list)"
   ]
  },
  {
   "cell_type": "code",
   "execution_count": null,
   "id": "00be0faa-7d15-44a0-b250-b62af10e9016",
   "metadata": {},
   "outputs": [],
   "source": []
  },
  {
   "cell_type": "code",
   "execution_count": 28,
   "id": "4748a144-cd39-4ed7-ad58-61ea3f6d4d57",
   "metadata": {},
   "outputs": [
    {
     "data": {
      "text/plain": [
       "<matplotlib.image.AxesImage at 0x2ac6f561cd0>"
      ]
     },
     "execution_count": 28,
     "metadata": {},
     "output_type": "execute_result"
    },
    {
     "data": {
      "image/png": "[encoded data removed]",
      "text/plain": [
       "<Figure size 432x288 with 1 Axes>"
      ]
     },
     "metadata": {
      "needs_background": "light"
     },
     "output_type": "display_data"
    }
   ],
   "source": [
    "plt.imshow(image_list[282])"
   ]
  },
  {
   "cell_type": "code",
   "execution_count": null,
   "id": "9eb7052c-16a8-48b6-8b2f-ab2c58c28788",
   "metadata": {},
   "outputs": [],
   "source": []
  },
  {
   "cell_type": "code",
   "execution_count": 29,
   "id": "ed368359-b25e-44d0-bc7a-ab7124d4cbb4",
   "metadata": {},
   "outputs": [],
   "source": [
    "Y=np.array(Y)"
   ]
  },
  {
   "cell_type": "code",
   "execution_count": 30,
   "id": "b54448e5-46ce-45f7-bb0e-5c7a553c97df",
   "metadata": {},
   "outputs": [],
   "source": [
    "import random"
   ]
  },
  {
   "cell_type": "markdown",
   "id": "9ca8c4fa-c30b-4ea3-9a89-679771811e49",
   "metadata": {},
   "source": []
  },
  {
   "cell_type": "code",
   "execution_count": 31,
   "id": "5f1ee320-158a-4130-a33e-56b41209f45d",
   "metadata": {},
   "outputs": [],
   "source": [
    "combined=list(zip(image_list,Y))"
   ]
  },
  {
   "cell_type": "code",
   "execution_count": 32,
   "id": "b378f9b5-39a4-4097-b69f-a34b89f327c0",
   "metadata": {},
   "outputs": [],
   "source": [
    "random.shuffle(combined)"
   ]
  },
  {
   "cell_type": "code",
   "execution_count": 33,
   "id": "a1e6b2d8-bb36-43ca-9ff5-3a9952e26885",
   "metadata": {},
   "outputs": [],
   "source": [
    "image_list,Y=zip(*combined)"
   ]
  },
  {
   "cell_type": "code",
   "execution_count": null,
   "id": "9e5b7e76-bc2b-4c1a-bc58-792c07100fd3",
   "metadata": {},
   "outputs": [],
   "source": []
  },
  {
   "cell_type": "code",
   "execution_count": 34,
   "id": "af6d4e69-6e5f-4a4f-8bc3-6a8137cb2d7f",
   "metadata": {},
   "outputs": [
    {
     "data": {
      "text/plain": [
       "<matplotlib.image.AxesImage at 0x2ac6f749d00>"
      ]
     },
     "execution_count": 34,
     "metadata": {},
     "output_type": "execute_result"
    },
    {
     "data": {
      "image/png": "[encoded data removed]",
      "text/plain": [
       "<Figure size 432x288 with 1 Axes>"
      ]
     },
     "metadata": {
      "needs_background": "light"
     },
     "output_type": "display_data"
    }
   ],
   "source": [
    "plt.imshow(image_list[282])"
   ]
  },
  {
   "cell_type": "code",
   "execution_count": 35,
   "id": "142b08a7-1821-4c0d-bf08-8efe95e0cfdd",
   "metadata": {},
   "outputs": [],
   "source": [
    "#image_list[282]"
   ]
  },
  {
   "cell_type": "code",
   "execution_count": 36,
   "id": "aa06dd9d-a9ef-4487-9163-b44a8cdf0866",
   "metadata": {},
   "outputs": [],
   "source": [
    "Y=np.array(Y)\n",
    "image_list=np.array(image_list,dtype='float32')"
   ]
  },
  {
   "cell_type": "code",
   "execution_count": null,
   "id": "db5714e4-7199-4776-98ef-e4fdec99a3fc",
   "metadata": {},
   "outputs": [],
   "source": []
  },
  {
   "cell_type": "code",
   "execution_count": 37,
   "id": "a3e617f8-7986-4098-972e-258c03ef1b25",
   "metadata": {},
   "outputs": [],
   "source": [
    "#image_list[282]"
   ]
  },
  {
   "cell_type": "code",
   "execution_count": null,
   "id": "44bda7cd-470d-4253-bc60-cfff00280bf9",
   "metadata": {},
   "outputs": [],
   "source": []
  },
  {
   "cell_type": "code",
   "execution_count": 38,
   "id": "2cbed48e-5777-483c-bcf4-9e7b5c46f5df",
   "metadata": {},
   "outputs": [
    {
     "data": {
      "text/plain": [
       "<matplotlib.image.AxesImage at 0x2ac6f7b0970>"
      ]
     },
     "execution_count": 38,
     "metadata": {},
     "output_type": "execute_result"
    },
    {
     "data": {
      "image/png": "[encoded data removed]",
      "text/plain": [
       "<Figure size 432x288 with 1 Axes>"
      ]
     },
     "metadata": {
      "needs_background": "light"
     },
     "output_type": "display_data"
    }
   ],
   "source": [
    "plt.imshow(image_list[282])"
   ]
  },
  {
   "cell_type": "code",
   "execution_count": 39,
   "id": "827fa56f-a9f4-4cf4-a73b-e98b6149cf2d",
   "metadata": {},
   "outputs": [
    {
     "data": {
      "image/png": "[encoded data removed]",
      "text/plain": [
       "<Figure size 432x288 with 1 Axes>"
      ]
     },
     "metadata": {
      "needs_background": "light"
     },
     "output_type": "display_data"
    }
   ],
   "source": [
    "for i in range(10):\n",
    "    plt.imshow(image_list[i])\n",
    "    plt.title(\"na\")"
   ]
  },
  {
   "cell_type": "code",
   "execution_count": null,
   "id": "8d60c083-8583-4224-b183-4f7809df1109",
   "metadata": {},
   "outputs": [],
   "source": []
  },
  {
   "cell_type": "code",
   "execution_count": null,
   "id": "f45c1b9f-8e0e-4874-83aa-9ae14a3727ad",
   "metadata": {},
   "outputs": [],
   "source": []
  },
  {
   "cell_type": "markdown",
   "id": "1553c2f8-909f-48d0-b0b4-66198085fe00",
   "metadata": {
    "tags": []
   },
   "source": []
  },
  {
   "cell_type": "code",
   "execution_count": null,
   "id": "3215484c-1c82-4a59-94de-2cd3cf95b61f",
   "metadata": {},
   "outputs": [],
   "source": []
  },
  {
   "cell_type": "code",
   "execution_count": null,
   "id": "076e2490-8941-4d19-80c6-a7355e10a33b",
   "metadata": {},
   "outputs": [],
   "source": []
  },
  {
   "cell_type": "code",
   "execution_count": null,
   "id": "74d6e2c4-a129-4711-abb3-8454bedb1ed2",
   "metadata": {},
   "outputs": [],
   "source": []
  },
  {
   "cell_type": "code",
   "execution_count": 40,
   "id": "42d7e44c-b311-4fb4-9a8e-fe76258149e3",
   "metadata": {},
   "outputs": [
    {
     "name": "stdout",
     "output_type": "stream",
     "text": [
      "(304, 30, 30, 3)\n"
     ]
    }
   ],
   "source": [
    "print(image_list.shape)"
   ]
  },
  {
   "cell_type": "code",
   "execution_count": 41,
   "id": "57ba4735-6edb-40ac-81dc-ab88859510a6",
   "metadata": {},
   "outputs": [
    {
     "name": "stdout",
     "output_type": "stream",
     "text": [
      "(304,)\n"
     ]
    }
   ],
   "source": [
    "print(Y.shape)"
   ]
  },
  {
   "cell_type": "code",
   "execution_count": 42,
   "id": "fb7d0fba-2eba-4a3a-9e8f-360b5cbebc94",
   "metadata": {},
   "outputs": [],
   "source": [
    "image_list=image_list.reshape(image_list.shape[0],-1)"
   ]
  },
  {
   "cell_type": "code",
   "execution_count": 43,
   "id": "05fe1cd1-3246-4d20-aa8e-80a841c2cc72",
   "metadata": {},
   "outputs": [
    {
     "name": "stdout",
     "output_type": "stream",
     "text": [
      "(304, 2700)\n"
     ]
    }
   ],
   "source": [
    "print(image_list.shape)"
   ]
  },
  {
   "cell_type": "code",
   "execution_count": null,
   "id": "6abc7060-1a05-40c7-971e-e2739f80a1cc",
   "metadata": {},
   "outputs": [],
   "source": []
  },
  {
   "cell_type": "code",
   "execution_count": null,
   "id": "8448f3ad-7b91-45c9-b0ae-168f3c937657",
   "metadata": {},
   "outputs": [],
   "source": []
  },
  {
   "cell_type": "code",
   "execution_count": null,
   "id": "a9307457-3b72-43b2-9004-0dff32655988",
   "metadata": {},
   "outputs": [],
   "source": []
  },
  {
   "cell_type": "code",
   "execution_count": 44,
   "id": "146410d2-bacf-4968-9540-c2f7c563f403",
   "metadata": {},
   "outputs": [],
   "source": [
    "label_values=[]"
   ]
  },
  {
   "cell_type": "code",
   "execution_count": null,
   "id": "421e3cec-4074-4ddd-9281-9d2f8f3e1ed7",
   "metadata": {},
   "outputs": [],
   "source": []
  },
  {
   "cell_type": "code",
   "execution_count": 45,
   "id": "38bc29b3-dd93-459f-8a99-040d3881c150",
   "metadata": {},
   "outputs": [],
   "source": [
    "class_names={'Bulbasaur':0, 'Charmander':1, 'Pikachu':2}"
   ]
  },
  {
   "cell_type": "code",
   "execution_count": 46,
   "id": "a6bd2599-4279-4690-9684-9c0b16117151",
   "metadata": {},
   "outputs": [],
   "source": [
    "for i in Y:\n",
    "    label_values.append(class_names[i])"
   ]
  },
  {
   "cell_type": "code",
   "execution_count": null,
   "id": "91127229-6f7a-4f3f-814a-e752c0ef6e82",
   "metadata": {},
   "outputs": [],
   "source": []
  },
  {
   "cell_type": "code",
   "execution_count": null,
   "id": "31c6e139-d096-4fa4-bce8-b27a1d539298",
   "metadata": {},
   "outputs": [],
   "source": []
  },
  {
   "cell_type": "code",
   "execution_count": null,
   "id": "63e390ac-f321-42b3-b5a3-0ab96c267e3b",
   "metadata": {},
   "outputs": [],
   "source": []
  },
  {
   "cell_type": "code",
   "execution_count": 47,
   "id": "d8e7e078-6abc-4c4a-ac24-f08e10c27ba3",
   "metadata": {},
   "outputs": [],
   "source": [
    "classes=np.unique(Y)"
   ]
  },
  {
   "cell_type": "code",
   "execution_count": 48,
   "id": "ef236a4a-a9e9-4cbb-adfa-7b91c4386b3b",
   "metadata": {},
   "outputs": [
    {
     "name": "stdout",
     "output_type": "stream",
     "text": [
      "['Bulbasaur' 'Charmander' 'Pikachu']\n"
     ]
    }
   ],
   "source": [
    "print(classes)"
   ]
  },
  {
   "cell_type": "code",
   "execution_count": null,
   "id": "225bbf15-6ba6-40fd-b860-bee4c475e103",
   "metadata": {},
   "outputs": [],
   "source": []
  },
  {
   "cell_type": "code",
   "execution_count": 49,
   "id": "639e0529-a8b9-46be-96db-8cf7e4b18c63",
   "metadata": {},
   "outputs": [],
   "source": [
    "def class_wise_Data(x,y,classes):\n",
    "    data={}\n",
    "    \n",
    "    for i in classes:\n",
    "        data[i]=[]\n",
    "    for i in range(x.shape[0]):\n",
    "        data[y[i]].append(x[i])\n",
    "    for keys in data.keys():\n",
    "        data[keys]=np.array(data[keys])\n",
    "    return data"
   ]
  },
  {
   "cell_type": "code",
   "execution_count": 50,
   "id": "70181c09-7896-4be7-b6b8-9596b6525fe8",
   "metadata": {},
   "outputs": [],
   "source": [
    "data_img=class_wise_Data(image_list,Y,classes)"
   ]
  },
  {
   "cell_type": "code",
   "execution_count": 51,
   "id": "b54b4af7-6c0f-47d0-b4e9-fcba51613af0",
   "metadata": {},
   "outputs": [
    {
     "name": "stdout",
     "output_type": "stream",
     "text": [
      "(101, 2700)\n"
     ]
    }
   ],
   "source": [
    "print(data_img['Bulbasaur'].shape)"
   ]
  },
  {
   "cell_type": "code",
   "execution_count": 52,
   "id": "f4917356-5ec9-4ed0-94c9-2999074acdfc",
   "metadata": {},
   "outputs": [
    {
     "data": {
      "text/plain": [
       "{'Bulbasaur': array([[0.5058824 , 0.5058824 , 0.5058824 , ..., 0.5058824 , 0.5058824 ,\n",
       "         0.5058824 ],\n",
       "        [0.28235295, 0.69411767, 0.37254903, ..., 0.7529412 , 0.95686275,\n",
       "         0.8156863 ],\n",
       "        [0.        , 0.        , 0.        , ..., 0.        , 0.        ,\n",
       "         0.        ],\n",
       "        ...,\n",
       "        [0.8156863 , 0.87058824, 0.972549  , ..., 0.23529412, 0.63529414,\n",
       "         0.30588236],\n",
       "        [0.        , 0.        , 0.        , ..., 0.        , 0.        ,\n",
       "         0.        ],\n",
       "        [0.03529412, 0.25490198, 0.06666667, ..., 0.4745098 , 0.4745098 ,\n",
       "         0.4745098 ]], dtype=float32),\n",
       " 'Charmander': array([[1.        , 1.        , 1.        , ..., 1.        , 1.        ,\n",
       "         1.        ],\n",
       "        [0.8235294 , 0.8235294 , 0.8235294 , ..., 0.84313726, 0.84313726,\n",
       "         0.84313726],\n",
       "        [0.        , 0.        , 0.        , ..., 0.        , 0.        ,\n",
       "         0.        ],\n",
       "        ...,\n",
       "        [1.        , 0.        , 0.        , ..., 1.        , 0.8       ,\n",
       "         0.        ],\n",
       "        [0.        , 0.        , 0.        , ..., 0.        , 0.        ,\n",
       "         0.        ],\n",
       "        [0.        , 0.        , 0.        , ..., 0.        , 0.        ,\n",
       "         0.        ]], dtype=float32),\n",
       " 'Pikachu': array([[1.        , 1.        , 1.        , ..., 0.        , 0.        ,\n",
       "         0.        ],\n",
       "        [0.08627451, 0.5529412 , 0.6862745 , ..., 0.6862745 , 0.64705884,\n",
       "         0.91764706],\n",
       "        [0.        , 0.        , 0.        , ..., 0.92156863, 0.9529412 ,\n",
       "         0.95686275],\n",
       "        ...,\n",
       "        [0.5294118 , 0.6862745 , 0.5529412 , ..., 0.34509805, 0.6666667 ,\n",
       "         0.3372549 ],\n",
       "        [1.        , 1.        , 1.        , ..., 1.        , 1.        ,\n",
       "         1.        ],\n",
       "        [1.        , 1.        , 1.        , ..., 1.        , 1.        ,\n",
       "         1.        ]], dtype=float32)}"
      ]
     },
     "execution_count": 52,
     "metadata": {},
     "output_type": "execute_result"
    }
   ],
   "source": [
    "data_img"
   ]
  },
  {
   "cell_type": "code",
   "execution_count": null,
   "id": "ed96bbca-6ed6-434e-905a-058a0434d99c",
   "metadata": {},
   "outputs": [],
   "source": []
  },
  {
   "cell_type": "code",
   "execution_count": null,
   "id": "d8fb6470-7ae7-4e88-823b-e25046d6c544",
   "metadata": {},
   "outputs": [],
   "source": []
  },
  {
   "cell_type": "code",
   "execution_count": null,
   "id": "a39f9952-262e-4ebb-a111-01e6bf624764",
   "metadata": {},
   "outputs": [],
   "source": []
  },
  {
   "cell_type": "code",
   "execution_count": null,
   "id": "2728eb41-4136-46e0-af61-a7a1e49785e2",
   "metadata": {},
   "outputs": [],
   "source": []
  },
  {
   "cell_type": "markdown",
   "id": "24ef9153-fd6e-4b71-9b29-a64c4ee6a38c",
   "metadata": {
    "tags": []
   },
   "source": [
    "## SVM"
   ]
  },
  {
   "cell_type": "markdown",
   "id": "3a1bc90c-94a2-4bf8-a5b7-3bdd2d957d44",
   "metadata": {
    "tags": []
   },
   "source": [
    "### One vs one SVM"
   ]
  },
  {
   "cell_type": "code",
   "execution_count": null,
   "id": "3bce9d13-049d-42c3-8981-d1a4625efbc0",
   "metadata": {},
   "outputs": [],
   "source": [
    "class SVM:\n",
    "    def __init__(self,c=1):\n",
    "        self.c=c\n",
    "        self.lr=0\n",
    "        self.b=0\n",
    "    def fit(self,x,y,batch_size=25,lr=0.00100,m_itr=1100):\n",
    "        n_f=x.shape[1]\n",
    "        n_s=x.shape[0]\n",
    "        \n",
    "        c=self.c\n",
    "        \n",
    "        w=np.zeros((1,n_f))\n",
    "        bias=0\n",
    "        \n",
    "        losses=[]\n",
    "        \n",
    "        for i in range(m_itr):\n",
    "            l=self.hinge_loss(w,bias,x,y)\n",
    "            losses.append(l)\n",
    "            ids=np.arange(n_s)\n",
    "            np.random.shuffle(ids)\n",
    "            \n",
    "            for batch_start in range(0,n_s,batch_size):\n",
    "                gw=0\n",
    "                gb=0\n",
    "                \n",
    "                for j in range(batch_start,batch_size+batch_start):\n",
    "                    if j<n_s:\n",
    "                        i=ids[j]\n",
    "                        ti=y[i]*(np.dot(w,x[i].T)+bias)\n",
    "                        \n",
    "                        if ti>1:\n",
    "                            gw+=0\n",
    "                            gb+=0\n",
    "                        else:\n",
    "                            gw+=c*y[i]*x[i]\n",
    "                            gb+=c*y[i]\n",
    "                            \n",
    "                w=w-lr*w+lr*gw\n",
    "                bias+=lr*gb\n",
    "        self.w=w\n",
    "        self.b=bias\n",
    "            \n",
    "        return w,bias,losses\n",
    "        \n",
    "        \n",
    "    def hinge_loss(self,W,b,x,y):\n",
    "        loss=0.0\n",
    "        loss+= .5*np.dot(W,W.T)\n",
    "        m=x.shape[0]\n",
    "        for i in range(m):\n",
    "            ti=y[i]*(np.dot(W,x[i].T)+b)\n",
    "            loss+=self.c*max(0,(1-ti))\n",
    "        return loss[0][0]"
   ]
  },
  {
   "cell_type": "code",
   "execution_count": null,
   "id": "b7843081-a30d-4894-8121-d6d596351b4e",
   "metadata": {},
   "outputs": [],
   "source": []
  },
  {
   "cell_type": "code",
   "execution_count": 242,
   "id": "e211b4ed-2534-44e5-97f8-e3914313de7c",
   "metadata": {},
   "outputs": [],
   "source": [
    "def get_pair_data(d1,d2):\n",
    "    l1,l2=d1.shape[0],d2.shape[0]\n",
    "    sampels=l1+l2\n",
    "    features=d1.shape[1]\n",
    "    \n",
    "    data_pair=np.zeros((sampels,features))\n",
    "    data_labels=np.zeros(sampels)\n",
    "    \n",
    "    \n",
    "    data_pair[:l1,:]=d1\n",
    "    data_pair[l1:,:]=d2\n",
    "    \n",
    "    data_labels[:l1]=-1\n",
    "    data_labels[l1:]=1\n",
    "    \n",
    "    \n",
    "    return data_pair,data_labels"
   ]
  },
  {
   "cell_type": "code",
   "execution_count": 243,
   "id": "07e8cb39-bbda-45ab-bbac-42ccd10ae7b7",
   "metadata": {},
   "outputs": [
    {
     "data": {
      "text/plain": [
       "0"
      ]
     },
     "execution_count": 243,
     "metadata": {},
     "output_type": "execute_result"
    }
   ],
   "source": [
    "list(classes).index('Bulbasaur')"
   ]
  },
  {
   "cell_type": "code",
   "execution_count": 244,
   "id": "1984b26f-1258-4677-ad10-13db7478e96f",
   "metadata": {},
   "outputs": [],
   "source": [
    "mySVM=SVM()"
   ]
  },
  {
   "cell_type": "code",
   "execution_count": null,
   "id": "b0bd928d-a0c9-4873-961d-9c98609366d7",
   "metadata": {},
   "outputs": [],
   "source": []
  },
  {
   "cell_type": "code",
   "execution_count": 245,
   "id": "1f834e6b-0c00-41b3-bbec-ec8ff94db3e8",
   "metadata": {},
   "outputs": [],
   "source": [
    "xp,yp=get_pair_data(data_img[\"Bulbasaur\"],data_img[\"Charmander\"])"
   ]
  },
  {
   "cell_type": "code",
   "execution_count": 250,
   "id": "4e46f58d-ef65-41c7-a2f0-0600c3543b95",
   "metadata": {},
   "outputs": [],
   "source": [
    "w,b,loss=mySVM.fit(xp,yp,lr=0.0001,m_itr=500)\n"
   ]
  },
  {
   "cell_type": "code",
   "execution_count": 251,
   "id": "2107ce10-9afa-4337-9358-cc5bd34e2930",
   "metadata": {},
   "outputs": [
    {
     "data": {
      "text/plain": [
       "[<matplotlib.lines.Line2D at 0x20ec8d39bb0>]"
      ]
     },
     "execution_count": 251,
     "metadata": {},
     "output_type": "execute_result"
    },
    {
     "data": {
      "image/png": "[encoded data removed]",
      "text/plain": [
       "<Figure size 432x288 with 1 Axes>"
      ]
     },
     "metadata": {
      "needs_background": "light"
     },
     "output_type": "display_data"
    }
   ],
   "source": [
    "plt.plot(loss)"
   ]
  },
  {
   "cell_type": "code",
   "execution_count": null,
   "id": "37dcf6a5-01ba-4c10-9f21-e80845beabed",
   "metadata": {},
   "outputs": [],
   "source": []
  },
  {
   "cell_type": "code",
   "execution_count": 252,
   "id": "15c86dfe-ad1f-481d-b29d-e6bffb000423",
   "metadata": {},
   "outputs": [],
   "source": [
    "def trainSVM(x,y):\n",
    "    \n",
    "    svm_classifiers={}\n",
    "    for n,i in enumerate(classes):\n",
    "        svm_classifiers[i]={}\n",
    "        for j in classes[n+1:]:\n",
    "            xpair,ypair=get_pair_data(data_img[i],data_img[j])\n",
    "            w,b,loss=mySVM.fit(xpair,ypair)\n",
    "            svm_classifiers[i][j]=(w,b)\n",
    "    return svm_classifiers"
   ]
  },
  {
   "cell_type": "code",
   "execution_count": 253,
   "id": "393053c6-0fc6-424a-8ea8-aea26574cb7c",
   "metadata": {},
   "outputs": [],
   "source": [
    "svm_object=trainSVM(image_list,Y)"
   ]
  },
  {
   "cell_type": "code",
   "execution_count": 254,
   "id": "cfb5197d-0c35-488e-9500-457f63fa1590",
   "metadata": {},
   "outputs": [
    {
     "name": "stdout",
     "output_type": "stream",
     "text": [
      "(1, 2700)\n"
     ]
    }
   ],
   "source": [
    "print(svm_object['Bulbasaur']['Charmander'][0].shape)"
   ]
  },
  {
   "cell_type": "code",
   "execution_count": 255,
   "id": "09e96f79-8826-442a-815b-300007c5d23a",
   "metadata": {},
   "outputs": [
    {
     "name": "stdout",
     "output_type": "stream",
     "text": [
      "-0.47500000000000026\n"
     ]
    }
   ],
   "source": [
    "print(svm_object['Bulbasaur']['Pikachu'][1])"
   ]
  },
  {
   "cell_type": "code",
   "execution_count": null,
   "id": "0fa9bc54-2f24-455e-bff0-716d2a54352e",
   "metadata": {},
   "outputs": [],
   "source": []
  },
  {
   "cell_type": "code",
   "execution_count": 256,
   "id": "fa91688c-c577-4e06-83c3-b0864c61bb7f",
   "metadata": {},
   "outputs": [
    {
     "name": "stdout",
     "output_type": "stream",
     "text": [
      "{'Charmander': (array([[-0.00858869,  0.00202381,  0.01046264, ..., -0.01679469,\n",
      "        -0.00442178,  0.00925703]]), -0.01599999999999986), 'Pikachu': (array([[-0.0030117 ,  0.00075045,  0.00999618, ..., -0.00525129,\n",
      "        -0.00299578,  0.01031683]]), -0.47500000000000026)}\n"
     ]
    }
   ],
   "source": [
    "print(svm_object['Bulbasaur'])"
   ]
  },
  {
   "cell_type": "code",
   "execution_count": 257,
   "id": "b0ddccb1-c480-4a0b-aa9d-759f06db30a3",
   "metadata": {},
   "outputs": [
    {
     "name": "stdout",
     "output_type": "stream",
     "text": [
      "{'Pikachu': (array([[ 0.01460487,  0.01150777,  0.00389433, ...,  0.02215145,\n",
      "         0.01224909, -0.00443882]]), -1.047999999999999)}\n"
     ]
    }
   ],
   "source": [
    "print(svm_object['Charmander'])"
   ]
  },
  {
   "cell_type": "code",
   "execution_count": 258,
   "id": "40f37707-d2c8-4cf1-a2ae-f9c5660a7b7e",
   "metadata": {},
   "outputs": [
    {
     "name": "stdout",
     "output_type": "stream",
     "text": [
      "{}\n"
     ]
    }
   ],
   "source": [
    "print(svm_object['Pikachu'])"
   ]
  },
  {
   "cell_type": "code",
   "execution_count": null,
   "id": "aeccffbd-f488-402a-996b-63d1b4d7e809",
   "metadata": {},
   "outputs": [],
   "source": []
  },
  {
   "cell_type": "code",
   "execution_count": 259,
   "id": "064ca047-e19d-4f8c-9805-9f33ff2b5a25",
   "metadata": {},
   "outputs": [],
   "source": [
    "def binaryPredict(x,w,b):\n",
    "    z=np.dot(x,w.T)+b\n",
    "    if z>=0:\n",
    "        return 1\n",
    "    else:\n",
    "        return -1\n",
    "    "
   ]
  },
  {
   "cell_type": "code",
   "execution_count": null,
   "id": "bd0589ea-e9f9-42bc-9d6a-a839795b16d9",
   "metadata": {},
   "outputs": [],
   "source": []
  },
  {
   "cell_type": "code",
   "execution_count": 260,
   "id": "ca1cfc09-2c79-4237-9d54-cb0b054f2a97",
   "metadata": {},
   "outputs": [],
   "source": [
    "def predict(x):\n",
    "    count=np.zeros((len(classes),))\n",
    "    \n",
    "    for n,i in enumerate(classes):\n",
    "        for m,j in enumerate(classes[n+1:]):\n",
    "            w,b=svm_object[i][j]\n",
    "            z=binaryPredict(x,w,b)\n",
    "            # print(count)\n",
    "            # print(m+n)\n",
    "            if z==1:\n",
    "                count[m+n]+=1\n",
    "            else:\n",
    "                count[n]+=1\n",
    "                \n",
    "    final_prediction = np.argmax(count)\n",
    "    return classes[final_prediction]"
   ]
  },
  {
   "cell_type": "code",
   "execution_count": 261,
   "id": "32aa9353-e632-4817-a62d-a25497a17718",
   "metadata": {},
   "outputs": [],
   "source": [
    "p=[]\n",
    "for i in image_list1:\n",
    "    p.append(predict(i))"
   ]
  },
  {
   "cell_type": "code",
   "execution_count": 275,
   "id": "90041edb-2c18-40a1-a7a4-710717534e94",
   "metadata": {},
   "outputs": [],
   "source": [
    "#p"
   ]
  },
  {
   "cell_type": "code",
   "execution_count": 264,
   "id": "93df5892-7d99-482e-a6f8-0631035844ca",
   "metadata": {},
   "outputs": [],
   "source": [
    "#plt.imshow(image_list1[0])"
   ]
  },
  {
   "cell_type": "code",
   "execution_count": null,
   "id": "171ef74a-2e88-4085-bdae-1d5b4f043b08",
   "metadata": {},
   "outputs": [],
   "source": []
  },
  {
   "cell_type": "code",
   "execution_count": null,
   "id": "8be5bed5-cd56-4eb2-b1d6-66e1f7f831f2",
   "metadata": {},
   "outputs": [],
   "source": []
  },
  {
   "cell_type": "code",
   "execution_count": 265,
   "id": "71fddb9c-7ac4-472e-bfa6-5802dcba3274",
   "metadata": {},
   "outputs": [],
   "source": [
    "y_=pd.DataFrame(image_id,columns=[\"ImageId\"])"
   ]
  },
  {
   "cell_type": "code",
   "execution_count": 266,
   "id": "0a1cebe3-eb6e-4e34-bf4c-5ab96d870a96",
   "metadata": {},
   "outputs": [
    {
     "data": {
      "text/html": [
       "<div>\n",
       "<style scoped>\n",
       "    .dataframe tbody tr th:only-of-type {\n",
       "        vertical-align: middle;\n",
       "    }\n",
       "\n",
       "    .dataframe tbody tr th {\n",
       "        vertical-align: top;\n",
       "    }\n",
       "\n",
       "    .dataframe thead th {\n",
       "        text-align: right;\n",
       "    }\n",
       "</style>\n",
       "<table border=\"1\" class=\"dataframe\">\n",
       "  <thead>\n",
       "    <tr style=\"text-align: right;\">\n",
       "      <th></th>\n",
       "      <th>ImageId</th>\n",
       "    </tr>\n",
       "  </thead>\n",
       "  <tbody>\n",
       "    <tr>\n",
       "      <th>0</th>\n",
       "      <td>1100.jpg</td>\n",
       "    </tr>\n",
       "    <tr>\n",
       "      <th>1</th>\n",
       "      <td>1101.jpg</td>\n",
       "    </tr>\n",
       "    <tr>\n",
       "      <th>2</th>\n",
       "      <td>1102.jpg</td>\n",
       "    </tr>\n",
       "    <tr>\n",
       "      <th>3</th>\n",
       "      <td>1103.jpg</td>\n",
       "    </tr>\n",
       "    <tr>\n",
       "      <th>4</th>\n",
       "      <td>1104.jpg</td>\n",
       "    </tr>\n",
       "    <tr>\n",
       "      <th>...</th>\n",
       "      <td>...</td>\n",
       "    </tr>\n",
       "    <tr>\n",
       "      <th>118</th>\n",
       "      <td>2236.jpg</td>\n",
       "    </tr>\n",
       "    <tr>\n",
       "      <th>119</th>\n",
       "      <td>2237.jpg</td>\n",
       "    </tr>\n",
       "    <tr>\n",
       "      <th>120</th>\n",
       "      <td>2238.jpg</td>\n",
       "    </tr>\n",
       "    <tr>\n",
       "      <th>121</th>\n",
       "      <td>2239.jpg</td>\n",
       "    </tr>\n",
       "    <tr>\n",
       "      <th>122</th>\n",
       "      <td>2240.jpg</td>\n",
       "    </tr>\n",
       "  </tbody>\n",
       "</table>\n",
       "<p>123 rows × 1 columns</p>\n",
       "</div>"
      ],
      "text/plain": [
       "      ImageId\n",
       "0    1100.jpg\n",
       "1    1101.jpg\n",
       "2    1102.jpg\n",
       "3    1103.jpg\n",
       "4    1104.jpg\n",
       "..        ...\n",
       "118  2236.jpg\n",
       "119  2237.jpg\n",
       "120  2238.jpg\n",
       "121  2239.jpg\n",
       "122  2240.jpg\n",
       "\n",
       "[123 rows x 1 columns]"
      ]
     },
     "execution_count": 266,
     "metadata": {},
     "output_type": "execute_result"
    }
   ],
   "source": [
    "y_\n"
   ]
  },
  {
   "cell_type": "code",
   "execution_count": 267,
   "id": "73445d94-26bb-4567-9275-e9b8109cb657",
   "metadata": {},
   "outputs": [],
   "source": [
    "y_[\"NameOfPokemon\"]=p"
   ]
  },
  {
   "cell_type": "code",
   "execution_count": null,
   "id": "08c4cced-4375-4be3-93b2-90e99508494b",
   "metadata": {},
   "outputs": [],
   "source": []
  },
  {
   "cell_type": "code",
   "execution_count": 277,
   "id": "d585922f-5053-42ac-b9f3-71c5ae6232c2",
   "metadata": {},
   "outputs": [
    {
     "data": {
      "text/html": [
       "<div>\n",
       "<style scoped>\n",
       "    .dataframe tbody tr th:only-of-type {\n",
       "        vertical-align: middle;\n",
       "    }\n",
       "\n",
       "    .dataframe tbody tr th {\n",
       "        vertical-align: top;\n",
       "    }\n",
       "\n",
       "    .dataframe thead th {\n",
       "        text-align: right;\n",
       "    }\n",
       "</style>\n",
       "<table border=\"1\" class=\"dataframe\">\n",
       "  <thead>\n",
       "    <tr style=\"text-align: right;\">\n",
       "      <th></th>\n",
       "      <th>ImageId</th>\n",
       "      <th>NameOfPokemon</th>\n",
       "    </tr>\n",
       "  </thead>\n",
       "  <tbody>\n",
       "    <tr>\n",
       "      <th>0</th>\n",
       "      <td>1100.jpg</td>\n",
       "      <td>Bulbasaur</td>\n",
       "    </tr>\n",
       "    <tr>\n",
       "      <th>1</th>\n",
       "      <td>1101.jpg</td>\n",
       "      <td>Bulbasaur</td>\n",
       "    </tr>\n",
       "    <tr>\n",
       "      <th>2</th>\n",
       "      <td>1102.jpg</td>\n",
       "      <td>Bulbasaur</td>\n",
       "    </tr>\n",
       "    <tr>\n",
       "      <th>3</th>\n",
       "      <td>1103.jpg</td>\n",
       "      <td>Bulbasaur</td>\n",
       "    </tr>\n",
       "    <tr>\n",
       "      <th>4</th>\n",
       "      <td>1104.jpg</td>\n",
       "      <td>Bulbasaur</td>\n",
       "    </tr>\n",
       "    <tr>\n",
       "      <th>...</th>\n",
       "      <td>...</td>\n",
       "      <td>...</td>\n",
       "    </tr>\n",
       "    <tr>\n",
       "      <th>118</th>\n",
       "      <td>2236.jpg</td>\n",
       "      <td>Charmander</td>\n",
       "    </tr>\n",
       "    <tr>\n",
       "      <th>119</th>\n",
       "      <td>2237.jpg</td>\n",
       "      <td>Bulbasaur</td>\n",
       "    </tr>\n",
       "    <tr>\n",
       "      <th>120</th>\n",
       "      <td>2238.jpg</td>\n",
       "      <td>Charmander</td>\n",
       "    </tr>\n",
       "    <tr>\n",
       "      <th>121</th>\n",
       "      <td>2239.jpg</td>\n",
       "      <td>Charmander</td>\n",
       "    </tr>\n",
       "    <tr>\n",
       "      <th>122</th>\n",
       "      <td>2240.jpg</td>\n",
       "      <td>Charmander</td>\n",
       "    </tr>\n",
       "  </tbody>\n",
       "</table>\n",
       "<p>123 rows × 2 columns</p>\n",
       "</div>"
      ],
      "text/plain": [
       "      ImageId NameOfPokemon\n",
       "0    1100.jpg     Bulbasaur\n",
       "1    1101.jpg     Bulbasaur\n",
       "2    1102.jpg     Bulbasaur\n",
       "3    1103.jpg     Bulbasaur\n",
       "4    1104.jpg     Bulbasaur\n",
       "..        ...           ...\n",
       "118  2236.jpg    Charmander\n",
       "119  2237.jpg     Bulbasaur\n",
       "120  2238.jpg    Charmander\n",
       "121  2239.jpg    Charmander\n",
       "122  2240.jpg    Charmander\n",
       "\n",
       "[123 rows x 2 columns]"
      ]
     },
     "execution_count": 277,
     "metadata": {},
     "output_type": "execute_result"
    }
   ],
   "source": [
    "y_"
   ]
  },
  {
   "cell_type": "code",
   "execution_count": null,
   "id": "cc64466c-ed97-44d3-bd0d-cdebcbbc38b1",
   "metadata": {},
   "outputs": [],
   "source": []
  },
  {
   "cell_type": "code",
   "execution_count": 269,
   "id": "23d13f1b-9f18-4e7c-ad54-81c3ab09b7f0",
   "metadata": {},
   "outputs": [
    {
     "name": "stdout",
     "output_type": "stream",
     "text": [
      "Charmander\n"
     ]
    }
   ],
   "source": [
    "print(Y[12])"
   ]
  },
  {
   "cell_type": "code",
   "execution_count": null,
   "id": "29e29982-6e57-4efd-9c42-cff9b8e7c156",
   "metadata": {},
   "outputs": [],
   "source": []
  },
  {
   "cell_type": "code",
   "execution_count": 270,
   "id": "356f7b35-cfa3-43cf-994c-92a8951974e9",
   "metadata": {},
   "outputs": [],
   "source": [
    "def accuracy(x,y):\n",
    "    count=0\n",
    "    for i in range(x.shape[0]):\n",
    "        prediction=predict(x[i])\n",
    "        if prediction==y[i]:\n",
    "            count+=1\n",
    "    return count/x.shape[0]"
   ]
  },
  {
   "cell_type": "code",
   "execution_count": 271,
   "id": "9f91b4a8-3be4-4517-80da-8a020ef4c0da",
   "metadata": {},
   "outputs": [
    {
     "data": {
      "text/plain": [
       "0.6578947368421053"
      ]
     },
     "execution_count": 271,
     "metadata": {},
     "output_type": "execute_result"
    }
   ],
   "source": [
    "accuracy(image_list,Y)"
   ]
  },
  {
   "cell_type": "code",
   "execution_count": null,
   "id": "5d20b33c-4048-403b-ba52-cac9060bc748",
   "metadata": {},
   "outputs": [],
   "source": []
  },
  {
   "cell_type": "code",
   "execution_count": 284,
   "id": "e723ab23-2dce-439c-a3c9-cb2822682237",
   "metadata": {},
   "outputs": [],
   "source": [
    "y_.set_index(\"ImageId\", inplace = True)"
   ]
  },
  {
   "cell_type": "code",
   "execution_count": null,
   "id": "7924c538-7f65-4151-a6e8-326667466faa",
   "metadata": {},
   "outputs": [],
   "source": []
  },
  {
   "cell_type": "code",
   "execution_count": 288,
   "id": "e0937092-3177-49eb-a307-5b0c3fc3b567",
   "metadata": {},
   "outputs": [],
   "source": [
    "test_data=pd.read_csv(\"Test/test.csv\")"
   ]
  },
  {
   "cell_type": "code",
   "execution_count": 289,
   "id": "42f49215-cc50-4209-a424-f8d292d2ecbe",
   "metadata": {},
   "outputs": [
    {
     "data": {
      "text/html": [
       "<div>\n",
       "<style scoped>\n",
       "    .dataframe tbody tr th:only-of-type {\n",
       "        vertical-align: middle;\n",
       "    }\n",
       "\n",
       "    .dataframe tbody tr th {\n",
       "        vertical-align: top;\n",
       "    }\n",
       "\n",
       "    .dataframe thead th {\n",
       "        text-align: right;\n",
       "    }\n",
       "</style>\n",
       "<table border=\"1\" class=\"dataframe\">\n",
       "  <thead>\n",
       "    <tr style=\"text-align: right;\">\n",
       "      <th></th>\n",
       "      <th>ImageId</th>\n",
       "    </tr>\n",
       "  </thead>\n",
       "  <tbody>\n",
       "    <tr>\n",
       "      <th>0</th>\n",
       "      <td>1106.jpg</td>\n",
       "    </tr>\n",
       "    <tr>\n",
       "      <th>1</th>\n",
       "      <td>2236.jpg</td>\n",
       "    </tr>\n",
       "    <tr>\n",
       "      <th>2</th>\n",
       "      <td>1131.jpg</td>\n",
       "    </tr>\n",
       "    <tr>\n",
       "      <th>3</th>\n",
       "      <td>2221.jpg</td>\n",
       "    </tr>\n",
       "    <tr>\n",
       "      <th>4</th>\n",
       "      <td>2011.jpg</td>\n",
       "    </tr>\n",
       "  </tbody>\n",
       "</table>\n",
       "</div>"
      ],
      "text/plain": [
       "    ImageId\n",
       "0  1106.jpg\n",
       "1  2236.jpg\n",
       "2  1131.jpg\n",
       "3  2221.jpg\n",
       "4  2011.jpg"
      ]
     },
     "execution_count": 289,
     "metadata": {},
     "output_type": "execute_result"
    }
   ],
   "source": []
  },
  {
   "cell_type": "code",
   "execution_count": null,
   "id": "f1a28631-6fa2-4014-ad7b-0225f9707d8a",
   "metadata": {},
   "outputs": [],
   "source": []
  },
  {
   "cell_type": "code",
   "execution_count": 290,
   "id": "82f22bfc-701e-4ae7-afa4-4a4d96bfcf55",
   "metadata": {},
   "outputs": [],
   "source": [
    "names=[]"
   ]
  },
  {
   "cell_type": "code",
   "execution_count": null,
   "id": "34d29f36-395c-420b-aba4-0060c700379c",
   "metadata": {},
   "outputs": [],
   "source": []
  },
  {
   "cell_type": "code",
   "execution_count": 291,
   "id": "111f80c8-be89-414e-8a31-b162208d5f27",
   "metadata": {},
   "outputs": [],
   "source": [
    "for i in test_data[\"ImageId\"]:\n",
    "    names.append(y_.loc[i][\"NameOfPokemon\"])"
   ]
  },
  {
   "cell_type": "code",
   "execution_count": 292,
   "id": "e3e0bf4a-9c16-4131-9d67-8e5d65a97ee1",
   "metadata": {},
   "outputs": [],
   "source": [
    "test_data[\"NameOfPokemon\"]=names"
   ]
  },
  {
   "cell_type": "code",
   "execution_count": 293,
   "id": "16943ffd-99b9-4b5e-b0cb-622e98f7f701",
   "metadata": {},
   "outputs": [
    {
     "data": {
      "text/html": [
       "<div>\n",
       "<style scoped>\n",
       "    .dataframe tbody tr th:only-of-type {\n",
       "        vertical-align: middle;\n",
       "    }\n",
       "\n",
       "    .dataframe tbody tr th {\n",
       "        vertical-align: top;\n",
       "    }\n",
       "\n",
       "    .dataframe thead th {\n",
       "        text-align: right;\n",
       "    }\n",
       "</style>\n",
       "<table border=\"1\" class=\"dataframe\">\n",
       "  <thead>\n",
       "    <tr style=\"text-align: right;\">\n",
       "      <th></th>\n",
       "      <th>ImageId</th>\n",
       "      <th>NameOfPokemon</th>\n",
       "    </tr>\n",
       "  </thead>\n",
       "  <tbody>\n",
       "    <tr>\n",
       "      <th>0</th>\n",
       "      <td>1106.jpg</td>\n",
       "      <td>Bulbasaur</td>\n",
       "    </tr>\n",
       "    <tr>\n",
       "      <th>1</th>\n",
       "      <td>2236.jpg</td>\n",
       "      <td>Charmander</td>\n",
       "    </tr>\n",
       "    <tr>\n",
       "      <th>2</th>\n",
       "      <td>1131.jpg</td>\n",
       "      <td>Bulbasaur</td>\n",
       "    </tr>\n",
       "    <tr>\n",
       "      <th>3</th>\n",
       "      <td>2221.jpg</td>\n",
       "      <td>Charmander</td>\n",
       "    </tr>\n",
       "    <tr>\n",
       "      <th>4</th>\n",
       "      <td>2011.jpg</td>\n",
       "      <td>Charmander</td>\n",
       "    </tr>\n",
       "  </tbody>\n",
       "</table>\n",
       "</div>"
      ],
      "text/plain": [
       "    ImageId NameOfPokemon\n",
       "0  1106.jpg     Bulbasaur\n",
       "1  2236.jpg    Charmander\n",
       "2  1131.jpg     Bulbasaur\n",
       "3  2221.jpg    Charmander\n",
       "4  2011.jpg    Charmander"
      ]
     },
     "execution_count": 293,
     "metadata": {},
     "output_type": "execute_result"
    }
   ],
   "source": [
    "test_data.head()"
   ]
  },
  {
   "cell_type": "code",
   "execution_count": null,
   "id": "ed87cfcb-cf94-4845-8a2f-12e2160f1dd2",
   "metadata": {},
   "outputs": [],
   "source": []
  },
  {
   "cell_type": "code",
   "execution_count": 296,
   "id": "5f8bdd32-a421-4e89-956e-0bf50231cbb0",
   "metadata": {},
   "outputs": [],
   "source": [
    "test_data.to_csv(\"submit_1.csv\",index=False)"
   ]
  },
  {
   "cell_type": "code",
   "execution_count": null,
   "id": "ca05e66e-cf3e-413a-83c7-507bdb1f340b",
   "metadata": {},
   "outputs": [],
   "source": []
  },
  {
   "cell_type": "code",
   "execution_count": null,
   "id": "c3af00c3-7cc9-44c4-870f-380680c5cc82",
   "metadata": {},
   "outputs": [],
   "source": []
  },
  {
   "cell_type": "markdown",
   "id": "910122f1-dc1b-4068-8019-f38aee0a91b1",
   "metadata": {},
   "source": [
    "## Neural networks"
   ]
  },
  {
   "cell_type": "code",
   "execution_count": null,
   "id": "564362fd-03e7-4b00-9b7e-19b1258d5fd5",
   "metadata": {},
   "outputs": [],
   "source": []
  },
  {
   "cell_type": "code",
   "execution_count": null,
   "id": "043b43be-d189-46a0-b076-9d65361a6d7e",
   "metadata": {},
   "outputs": [],
   "source": []
  },
  {
   "cell_type": "code",
   "execution_count": 53,
   "id": "654f9174-e165-41dd-a98c-d8deaa268b1b",
   "metadata": {},
   "outputs": [],
   "source": [
    "def softmax(a):\n",
    "    e_pa=np.exp(a)\n",
    "    ans=e_pa/np.sum(e_pa,axis=1,keepdims=True)\n",
    "    return ans"
   ]
  },
  {
   "cell_type": "code",
   "execution_count": null,
   "id": "e36c2afc-0627-43ec-9e6f-8fa1baa8af4a",
   "metadata": {},
   "outputs": [],
   "source": []
  },
  {
   "cell_type": "code",
   "execution_count": 54,
   "id": "806b6983-ea77-4689-add1-e5e3ffe70517",
   "metadata": {},
   "outputs": [],
   "source": [
    "class neural_Networks:\n",
    "    def __init__(self,input_size,layers,output_size):\n",
    "        \n",
    "        np.random.seed(0)\n",
    "        \n",
    "        model={}\n",
    "        model[\"W1\"]=np.random.randn(input_size,layers[0])\n",
    "        model[\"b1\"]=np.zeros((1,layers[0]))\n",
    "        \n",
    "        model[\"W2\"]=np.random.randn(layers[0],layers[1])\n",
    "        model[\"b2\"]=np.zeros((1,layers[1]))\n",
    " \n",
    "        model[\"W3\"]=np.random.randn(layers[1],output_size)\n",
    "        model[\"b3\"]=np.zeros((1,output_size))\n",
    "        \n",
    "        self.model=model\n",
    "        self.activation_outputs=None\n",
    "    \n",
    "    def forward(self,x):\n",
    "        \n",
    "        w1,w2,w3=self.model[\"W1\"],self.model[\"W2\"],self.model[\"W3\"]\n",
    "        b1,b2,b3=self.model[\"b1\"],self.model[\"b2\"],self.model[\"b3\"]\n",
    "        \n",
    "        z1=np.dot(x,w1)+b1\n",
    "        a1=np.tanh(z1)\n",
    "        \n",
    "        z2=np.dot(a1,w2)+b2\n",
    "        a2=np.tanh(z2)\n",
    "        \n",
    "        z3=np.dot(a2,w3)+b3\n",
    "        y_= softmax(z3)\n",
    "        \n",
    "        \n",
    "        self.activation_outputs=(a1,a2,y_)\n",
    "        return y_\n",
    "        \n",
    "    def backward(self,x,y,lr=0.001):\n",
    "        \n",
    "        w1,w2,w3=self.model[\"W1\"],self.model[\"W2\"],self.model[\"W3\"]\n",
    "        b1,b2,b3=self.model[\"b1\"],self.model[\"b2\"],self.model[\"b3\"]\n",
    "        \n",
    "        m=x.shape[0]\n",
    "        a1,a2,y_=self.activation_outputs\n",
    "        \n",
    "        delta3=y_- y\n",
    "        dw3=np.dot(a2.T,delta3)\n",
    "        db3=np.sum(delta3,axis=0)\n",
    "        \n",
    "        delta2=(1-np.square(a2))*np.dot(delta3,w3.T)\n",
    "        dw2=np.dot(a1.T,delta2)\n",
    "        db2=np.sum(delta2,axis=0)\n",
    "        \n",
    "        delta1=(1-np.square(a1))*np.dot(delta2,w2.T)\n",
    "        dw1=np.dot(x.T,delta1)\n",
    "        db1=np.sum(delta1,axis=0)\n",
    "        \n",
    "        \n",
    "        self.model[\"W1\"]-=lr*dw1\n",
    "        self.model[\"b1\"]-=lr*db1\n",
    "        \n",
    "        self.model[\"W2\"]-=lr*dw2\n",
    "        self.model[\"b2\"]-=lr*db2\n",
    "        \n",
    "        self.model[\"W3\"]-=lr*dw3\n",
    "        self.model[\"b3\"]-=lr*db3\n",
    "        \n",
    "    def predict(self,x):\n",
    "        y_out=self.forward(x)\n",
    "        return np.argmax(y_out,axis=1)\n",
    "        \n",
    "        \n",
    "    def summary(self):\n",
    "        \n",
    "        w1,w2,w3=self.model[\"W1\"],self.model[\"W2\"],self.model[\"W3\"]\n",
    "        a1,a2,y_=self.activation_outputs\n",
    "        \n",
    "        print(\"W1 :\",w1.shape)\n",
    "        print(\"A1 :\",a1.shape)\n",
    "        \n",
    "        print(\"W2 :\",w2.shape)\n",
    "        print(\"A2 :\",a2.shape)\n",
    "        \n",
    "        print(\"W3 :\",w3.shape)\n",
    "        print(\"Y_ :\",y_.shape)\n",
    "        \n",
    "        "
   ]
  },
  {
   "cell_type": "code",
   "execution_count": null,
   "id": "e950969d-c613-4532-bf04-5de6249f9825",
   "metadata": {},
   "outputs": [],
   "source": []
  },
  {
   "cell_type": "code",
   "execution_count": 55,
   "id": "935de805-6d7e-48b5-9b6f-baac1be9d2f2",
   "metadata": {},
   "outputs": [],
   "source": [
    "def loss(y_oht,p):\n",
    "    l= -np.mean(y_oht*np.log(p))\n",
    "    \n",
    "    return l\n",
    "\n",
    "def one_hot(y,depth):\n",
    "    \n",
    "    m=y.shape[0]\n",
    "    y_oht=np.zeros((m,depth))\n",
    "    y_oht[np.arange(m),y]=1\n",
    "    \n",
    "    return y_oht"
   ]
  },
  {
   "cell_type": "code",
   "execution_count": null,
   "id": "244e5b91-42e7-45d4-bbac-7d5915b69087",
   "metadata": {},
   "outputs": [],
   "source": []
  },
  {
   "cell_type": "code",
   "execution_count": 56,
   "id": "84ea0767-3972-4a99-bda5-198eead7270c",
   "metadata": {},
   "outputs": [],
   "source": [
    "def train(x,y,model,epochs,lr,logs=True):\n",
    "    training_loss=[]\n",
    "    \n",
    "    classes = 3\n",
    "    Y_OHT=one_hot(y,classes)\n",
    "    \n",
    "    for ix in range(epochs):\n",
    "        Y_=model.forward(x)\n",
    "        l=loss(Y_OHT,Y_)\n",
    "        training_loss.append(l)\n",
    "        model.backward(x,Y_OHT,lr)\n",
    "        \n",
    "        if(logs):\n",
    "            print(\"Epochs %d Loss %.4f\"%(ix,l))\n",
    "            \n",
    "    return training_loss"
   ]
  },
  {
   "cell_type": "code",
   "execution_count": null,
   "id": "82c5e163-2e37-4ba6-a2e0-18eb977e0cd9",
   "metadata": {},
   "outputs": [],
   "source": []
  },
  {
   "cell_type": "code",
   "execution_count": 57,
   "id": "a66c8910-b10a-48f0-bca3-3f05944090ec",
   "metadata": {},
   "outputs": [],
   "source": [
    "#from pylib.plot import plot_decision_boundary"
   ]
  },
  {
   "cell_type": "code",
   "execution_count": null,
   "id": "4e45e9a4-4248-4689-a272-049d31e07b3d",
   "metadata": {},
   "outputs": [],
   "source": []
  },
  {
   "cell_type": "code",
   "execution_count": 58,
   "id": "81861561-a049-439d-b019-f34277871a5d",
   "metadata": {},
   "outputs": [],
   "source": [
    "#pip install pylib.plot"
   ]
  },
  {
   "cell_type": "code",
   "execution_count": 59,
   "id": "7cf080bb-24ae-4fb1-8b99-88bbc84ffcd0",
   "metadata": {},
   "outputs": [],
   "source": [
    "label_values1=np.array(label_values)"
   ]
  },
  {
   "cell_type": "code",
   "execution_count": null,
   "id": "2b8422a8-0174-4d08-8831-14bedc9dea8e",
   "metadata": {},
   "outputs": [],
   "source": []
  },
  {
   "cell_type": "code",
   "execution_count": 60,
   "id": "44cebe47-75bb-4617-8765-15fc0f842744",
   "metadata": {},
   "outputs": [
    {
     "name": "stdout",
     "output_type": "stream",
     "text": [
      "(304,)\n"
     ]
    }
   ],
   "source": [
    "print(label_values1.shape)"
   ]
  },
  {
   "cell_type": "code",
   "execution_count": null,
   "id": "d46bf420-afeb-481e-88cd-41f38a35c40f",
   "metadata": {},
   "outputs": [],
   "source": []
  },
  {
   "cell_type": "code",
   "execution_count": null,
   "id": "0bac2780-a8f6-4e74-9d8c-50b84897ced7",
   "metadata": {},
   "outputs": [],
   "source": []
  },
  {
   "cell_type": "code",
   "execution_count": null,
   "id": "2e4ed700-9720-464e-853a-051fb91b17f5",
   "metadata": {},
   "outputs": [],
   "source": []
  },
  {
   "cell_type": "code",
   "execution_count": 61,
   "id": "2cb45ee6-0452-4438-8f1b-8e6e7474fb46",
   "metadata": {},
   "outputs": [],
   "source": [
    "model=neural_Networks(input_size=2700,layers=[100,50],output_size=3)"
   ]
  },
  {
   "cell_type": "code",
   "execution_count": null,
   "id": "35afe992-cfb3-4b69-b440-1e8375eccc6c",
   "metadata": {},
   "outputs": [],
   "source": [
    "l=train(image_list,label_values1,model,500,0.0002)"
   ]
  },
  {
   "cell_type": "code",
   "execution_count": 63,
   "id": "53e3d67b-ed68-47cc-8784-ce22b9b814e8",
   "metadata": {},
   "outputs": [
    {
     "data": {
      "text/plain": [
       "[<matplotlib.lines.Line2D at 0x2ac6f7d29d0>]"
      ]
     },
     "execution_count": 63,
     "metadata": {},
     "output_type": "execute_result"
    },
    {
     "data": {
      "image/png": "[encoded data removed]",
      "text/plain": [
       "<Figure size 432x288 with 1 Axes>"
      ]
     },
     "metadata": {
      "needs_background": "light"
     },
     "output_type": "display_data"
    }
   ],
   "source": [
    "plt.plot(l)"
   ]
  },
  {
   "cell_type": "code",
   "execution_count": null,
   "id": "296fa935-fed8-4f31-8b46-3aa732113acc",
   "metadata": {},
   "outputs": [],
   "source": []
  },
  {
   "cell_type": "code",
   "execution_count": 66,
   "id": "51c3f1fb-7dd3-497c-a0e0-32ee1cf695cd",
   "metadata": {},
   "outputs": [
    {
     "name": "stdout",
     "output_type": "stream",
     "text": [
      "W1 : (2700, 100)\n",
      "A1 : (304, 100)\n",
      "W2 : (100, 50)\n",
      "A2 : (304, 50)\n",
      "W3 : (50, 3)\n",
      "Y_ : (304, 3)\n"
     ]
    }
   ],
   "source": [
    "model.summary()"
   ]
  },
  {
   "cell_type": "code",
   "execution_count": null,
   "id": "0130a1a2-3d02-40ea-8630-7b42004596f1",
   "metadata": {},
   "outputs": [],
   "source": []
  },
  {
   "cell_type": "code",
   "execution_count": 67,
   "id": "7888e810-6637-4508-9f48-e409e6ee7aed",
   "metadata": {},
   "outputs": [
    {
     "name": "stdout",
     "output_type": "stream",
     "text": [
      "Train Acc 0.9901\n"
     ]
    }
   ],
   "source": [
    "def getAcc(x,y,model):\n",
    "    outputs=model.predict(x)\n",
    "    acc=np.sum(outputs==y)/y.shape[0]\n",
    "    return acc\n",
    "print(\"Train Acc %.4f\"%getAcc(image_list,label_values1,model))"
   ]
  },
  {
   "cell_type": "code",
   "execution_count": null,
   "id": "cb0966a7-1725-48a9-bf64-62d743ef553d",
   "metadata": {},
   "outputs": [],
   "source": []
  },
  {
   "cell_type": "code",
   "execution_count": 68,
   "id": "b684206d-cc88-4f35-b470-4320c65a84f3",
   "metadata": {},
   "outputs": [],
   "source": [
    "class_names_inverse={0:'Bulbasaur', 1:'Charmander',2: 'Pikachu'}"
   ]
  },
  {
   "cell_type": "code",
   "execution_count": null,
   "id": "60685725-5edb-4355-ad40-5c1eb1a1459b",
   "metadata": {},
   "outputs": [],
   "source": []
  },
  {
   "cell_type": "code",
   "execution_count": null,
   "id": "3c1578a9-484c-4755-88b6-7667a7e963b5",
   "metadata": {},
   "outputs": [],
   "source": []
  },
  {
   "cell_type": "code",
   "execution_count": 69,
   "id": "c5fd2487-019f-4121-8cd3-1c4cadd65972",
   "metadata": {},
   "outputs": [],
   "source": [
    "p1=[]\n",
    "for i in image_list1:\n",
    "    p1.append(model.predict(i))"
   ]
  },
  {
   "cell_type": "code",
   "execution_count": 70,
   "id": "56926606-68a4-4ed9-b47d-de10479c487a",
   "metadata": {},
   "outputs": [],
   "source": [
    "il=model.predict(image_list1)"
   ]
  },
  {
   "cell_type": "code",
   "execution_count": null,
   "id": "38230b8b-f178-41b1-8d2e-8402b3c9e7c5",
   "metadata": {},
   "outputs": [],
   "source": []
  },
  {
   "cell_type": "code",
   "execution_count": 71,
   "id": "68ac60cc-eb47-42f2-9598-e6e76f712405",
   "metadata": {},
   "outputs": [],
   "source": [
    "predicted_values=[]"
   ]
  },
  {
   "cell_type": "code",
   "execution_count": 72,
   "id": "614d9898-3d72-4ce4-89ac-b80bb20fc3b8",
   "metadata": {},
   "outputs": [],
   "source": [
    "for i in il:\n",
    "    predicted_values.append(class_names_inverse[i])"
   ]
  },
  {
   "cell_type": "code",
   "execution_count": null,
   "id": "a46ca6ca-f5a0-4940-999d-750ea809b1b5",
   "metadata": {},
   "outputs": [],
   "source": []
  },
  {
   "cell_type": "code",
   "execution_count": null,
   "id": "9b755fb4-54a7-4841-b22f-a90cc9782d8e",
   "metadata": {},
   "outputs": [],
   "source": []
  },
  {
   "cell_type": "code",
   "execution_count": null,
   "id": "5f5b8566-f2a0-43e1-81ba-950471074351",
   "metadata": {},
   "outputs": [],
   "source": []
  },
  {
   "cell_type": "code",
   "execution_count": 187,
   "id": "4798119d-ac25-4f13-a3af-db9c6bcd833d",
   "metadata": {},
   "outputs": [],
   "source": [
    "y_nn=pd.DataFrame(image_id,columns=[\"ImageId\"])"
   ]
  },
  {
   "cell_type": "code",
   "execution_count": 188,
   "id": "6d512532-2a37-459b-9a97-2429e14c3a3e",
   "metadata": {},
   "outputs": [],
   "source": [
    "y_nn[\"NameOfPokemon\"]=predicted_values"
   ]
  },
  {
   "cell_type": "code",
   "execution_count": 189,
   "id": "9c3bdd8a-620f-48ff-bad8-6c6037655079",
   "metadata": {},
   "outputs": [],
   "source": [
    "y_nn.set_index(\"ImageId\", inplace = True)"
   ]
  },
  {
   "cell_type": "code",
   "execution_count": 190,
   "id": "15ae443b-5b86-4d61-b4f3-b0e830c23d22",
   "metadata": {},
   "outputs": [],
   "source": [
    "test_data_nn=pd.read_csv(\"Test/test.csv\")"
   ]
  },
  {
   "cell_type": "code",
   "execution_count": 191,
   "id": "0cad03ca-e61a-4d3d-a243-2d0a2d9da5ee",
   "metadata": {},
   "outputs": [],
   "source": [
    "names_nn=[]"
   ]
  },
  {
   "cell_type": "code",
   "execution_count": 193,
   "id": "3c1dcdf5-1b9b-454a-ac86-96d7f33f9ab8",
   "metadata": {},
   "outputs": [],
   "source": [
    "for i in test_data_nn[\"ImageId\"]:\n",
    "    names_nn.append(y_nn.loc[i][\"NameOfPokemon\"])"
   ]
  },
  {
   "cell_type": "code",
   "execution_count": 194,
   "id": "da981c41-fa45-478d-9293-862dae1ae3cd",
   "metadata": {},
   "outputs": [],
   "source": [
    "test_data_nn[\"NameOfPokemon\"]=names_nn"
   ]
  },
  {
   "cell_type": "code",
   "execution_count": 195,
   "id": "ca4c6da9-89ce-4154-abee-cd97810ae63a",
   "metadata": {},
   "outputs": [],
   "source": [
    "test_data_nn.to_csv(\"submit_1_nn.csv\",index=False)"
   ]
  },
  {
   "cell_type": "code",
   "execution_count": null,
   "id": "49dd3f39-83e4-455e-82d6-be900292c2b8",
   "metadata": {},
   "outputs": [],
   "source": []
  },
  {
   "cell_type": "code",
   "execution_count": null,
   "id": "22f8e93c-c2f9-42f9-8d83-36b8f002272b",
   "metadata": {},
   "outputs": [],
   "source": []
  }
 ],
 "metadata": {
  "kernelspec": {
   "display_name": "Python 3 (ipykernel)",
   "language": "python",
   "name": "python3"
  },
  "language_info": {
   "codemirror_mode": {
    "name": "ipython",
    "version": 3
   },
   "file_extension": ".py",
   "mimetype": "text/x-python",
   "name": "python",
   "nbconvert_exporter": "python",
   "pygments_lexer": "ipython3",
   "version": "3.9.7"
  }
 },
 "nbformat": 4,
 "nbformat_minor": 5
}

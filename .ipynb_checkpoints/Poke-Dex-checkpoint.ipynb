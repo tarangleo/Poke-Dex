{
 "cells": [
  {
   "cell_type": "code",
   "execution_count": 1,
   "id": "3502b333-322a-459d-bee2-1c088ef9f998",
   "metadata": {},
   "outputs": [],
   "source": [
    "\n",
    "from keras.preprocessing import image"
   ]
  },
  {
   "cell_type": "code",
   "execution_count": 2,
   "id": "e7272274-f648-457e-82e8-45fa712dbdef",
   "metadata": {},
   "outputs": [],
   "source": [
    "import numpy as np\n",
    "import pandas as pd\n",
    "import matplotlib.pyplot as plt\n",
    "import glob\n",
    "import os"
   ]
  },
  {
   "cell_type": "code",
   "execution_count": 3,
   "id": "9159bebe-42db-449f-9339-2f54b5549f2a",
   "metadata": {},
   "outputs": [],
   "source": [
    "data=pd.read_csv(\"Train/train.csv\")"
   ]
  },
  {
   "cell_type": "code",
   "execution_count": 48,
   "id": "49ed4096-ab7f-4e6a-88cc-5f331ae3add9",
   "metadata": {},
   "outputs": [
    {
     "data": {
      "text/html": [
       "<div>\n",
       "<style scoped>\n",
       "    .dataframe tbody tr th:only-of-type {\n",
       "        vertical-align: middle;\n",
       "    }\n",
       "\n",
       "    .dataframe tbody tr th {\n",
       "        vertical-align: top;\n",
       "    }\n",
       "\n",
       "    .dataframe thead th {\n",
       "        text-align: right;\n",
       "    }\n",
       "</style>\n",
       "<table border=\"1\" class=\"dataframe\">\n",
       "  <thead>\n",
       "    <tr style=\"text-align: right;\">\n",
       "      <th></th>\n",
       "      <th>ImageId</th>\n",
       "      <th>NameOfPokemon</th>\n",
       "    </tr>\n",
       "  </thead>\n",
       "  <tbody>\n",
       "    <tr>\n",
       "      <th>0</th>\n",
       "      <td>296.jpg</td>\n",
       "      <td>Pikachu</td>\n",
       "    </tr>\n",
       "    <tr>\n",
       "      <th>1</th>\n",
       "      <td>297.jpg</td>\n",
       "      <td>Pikachu</td>\n",
       "    </tr>\n",
       "    <tr>\n",
       "      <th>2</th>\n",
       "      <td>298.jpg</td>\n",
       "      <td>Pikachu</td>\n",
       "    </tr>\n",
       "    <tr>\n",
       "      <th>3</th>\n",
       "      <td>299.jpg</td>\n",
       "      <td>Pikachu</td>\n",
       "    </tr>\n",
       "    <tr>\n",
       "      <th>4</th>\n",
       "      <td>300.jpg</td>\n",
       "      <td>Pikachu</td>\n",
       "    </tr>\n",
       "  </tbody>\n",
       "</table>\n",
       "</div>"
      ],
      "text/plain": [
       "   ImageId NameOfPokemon\n",
       "0  296.jpg       Pikachu\n",
       "1  297.jpg       Pikachu\n",
       "2  298.jpg       Pikachu\n",
       "3  299.jpg       Pikachu\n",
       "4  300.jpg       Pikachu"
      ]
     },
     "execution_count": 48,
     "metadata": {},
     "output_type": "execute_result"
    }
   ],
   "source": [
    "data.head()"
   ]
  },
  {
   "cell_type": "code",
   "execution_count": 51,
   "id": "a37b3c3c-a816-42b5-bc16-2a0ab0e39d8a",
   "metadata": {},
   "outputs": [],
   "source": [
    "data=data.values"
   ]
  },
  {
   "cell_type": "code",
   "execution_count": 54,
   "id": "8cc4ed26-16f0-406e-b8a4-6ed18a18ba4f",
   "metadata": {},
   "outputs": [],
   "source": [
    "X=data[:,:-1]\n",
    "Y=data[:,-1]"
   ]
  },
  {
   "cell_type": "code",
   "execution_count": 66,
   "id": "7ff5a40e-c734-4192-8614-a064efc56b83",
   "metadata": {},
   "outputs": [
    {
     "name": "stdout",
     "output_type": "stream",
     "text": [
      "['Pikachu' 'Pikachu' 'Pikachu' 'Pikachu' 'Pikachu' 'Pikachu' 'Pikachu'\n",
      " 'Pikachu' 'Pikachu' 'Pikachu' 'Pikachu' 'Pikachu' 'Pikachu' 'Pikachu'\n",
      " 'Pikachu' 'Pikachu' 'Pikachu' 'Pikachu' 'Pikachu' 'Pikachu' 'Pikachu'\n",
      " 'Pikachu' 'Pikachu' 'Pikachu' 'Pikachu' 'Pikachu' 'Pikachu' 'Pikachu'\n",
      " 'Pikachu' 'Pikachu' 'Pikachu' 'Pikachu' 'Pikachu' 'Pikachu' 'Pikachu'\n",
      " 'Pikachu' 'Pikachu' 'Pikachu' 'Pikachu' 'Pikachu' 'Pikachu' 'Pikachu'\n",
      " 'Pikachu' 'Pikachu' 'Pikachu' 'Pikachu' 'Pikachu' 'Pikachu' 'Pikachu'\n",
      " 'Pikachu' 'Pikachu' 'Pikachu' 'Pikachu' 'Pikachu' 'Pikachu' 'Pikachu'\n",
      " 'Pikachu' 'Pikachu' 'Pikachu' 'Pikachu' 'Pikachu' 'Pikachu' 'Pikachu'\n",
      " 'Pikachu' 'Pikachu' 'Pikachu' 'Pikachu' 'Pikachu' 'Pikachu' 'Pikachu'\n",
      " 'Pikachu' 'Pikachu' 'Pikachu' 'Pikachu' 'Pikachu' 'Pikachu' 'Pikachu'\n",
      " 'Pikachu' 'Pikachu' 'Pikachu' 'Pikachu' 'Pikachu' 'Pikachu' 'Pikachu'\n",
      " 'Pikachu' 'Pikachu' 'Pikachu' 'Pikachu' 'Pikachu' 'Pikachu' 'Pikachu'\n",
      " 'Pikachu' 'Pikachu' 'Pikachu' 'Pikachu' 'Pikachu' 'Pikachu' 'Pikachu'\n",
      " 'Pikachu' 'Pikachu' 'Pikachu' 'Bulbasaur' 'Bulbasaur' 'Bulbasaur'\n",
      " 'Bulbasaur' 'Bulbasaur' 'Bulbasaur' 'Bulbasaur' 'Bulbasaur' 'Bulbasaur'\n",
      " 'Bulbasaur' 'Bulbasaur' 'Bulbasaur' 'Bulbasaur' 'Bulbasaur' 'Bulbasaur'\n",
      " 'Bulbasaur' 'Bulbasaur' 'Bulbasaur' 'Bulbasaur' 'Bulbasaur' 'Bulbasaur'\n",
      " 'Bulbasaur' 'Bulbasaur' 'Bulbasaur' 'Bulbasaur' 'Bulbasaur' 'Bulbasaur'\n",
      " 'Bulbasaur' 'Bulbasaur' 'Bulbasaur' 'Bulbasaur' 'Bulbasaur' 'Bulbasaur'\n",
      " 'Bulbasaur' 'Bulbasaur' 'Bulbasaur' 'Bulbasaur' 'Bulbasaur' 'Bulbasaur'\n",
      " 'Bulbasaur' 'Bulbasaur' 'Bulbasaur' 'Bulbasaur' 'Bulbasaur' 'Bulbasaur'\n",
      " 'Bulbasaur' 'Bulbasaur' 'Bulbasaur' 'Bulbasaur' 'Bulbasaur' 'Bulbasaur'\n",
      " 'Bulbasaur' 'Bulbasaur' 'Bulbasaur' 'Bulbasaur' 'Bulbasaur' 'Bulbasaur'\n",
      " 'Bulbasaur' 'Bulbasaur' 'Bulbasaur' 'Bulbasaur' 'Bulbasaur' 'Bulbasaur'\n",
      " 'Bulbasaur' 'Bulbasaur' 'Bulbasaur' 'Bulbasaur' 'Bulbasaur' 'Bulbasaur'\n",
      " 'Bulbasaur' 'Bulbasaur' 'Bulbasaur' 'Bulbasaur' 'Bulbasaur' 'Bulbasaur'\n",
      " 'Bulbasaur' 'Bulbasaur' 'Bulbasaur' 'Bulbasaur' 'Bulbasaur' 'Bulbasaur'\n",
      " 'Bulbasaur' 'Bulbasaur' 'Bulbasaur' 'Bulbasaur' 'Bulbasaur' 'Bulbasaur'\n",
      " 'Bulbasaur' 'Bulbasaur' 'Bulbasaur' 'Bulbasaur' 'Bulbasaur' 'Bulbasaur'\n",
      " 'Bulbasaur' 'Bulbasaur' 'Bulbasaur' 'Bulbasaur' 'Bulbasaur' 'Bulbasaur'\n",
      " 'Bulbasaur' 'Bulbasaur' 'Charmander' 'Charmander' 'Charmander'\n",
      " 'Charmander' 'Charmander' 'Charmander' 'Charmander' 'Charmander'\n",
      " 'Charmander' 'Charmander' 'Charmander' 'Charmander' 'Charmander'\n",
      " 'Charmander' 'Charmander' 'Charmander' 'Charmander' 'Charmander'\n",
      " 'Charmander' 'Charmander' 'Charmander' 'Charmander' 'Charmander'\n",
      " 'Charmander' 'Charmander' 'Charmander' 'Charmander' 'Charmander'\n",
      " 'Charmander' 'Charmander' 'Charmander' 'Charmander' 'Charmander'\n",
      " 'Charmander' 'Charmander' 'Charmander' 'Charmander' 'Charmander'\n",
      " 'Charmander' 'Charmander' 'Charmander' 'Charmander' 'Charmander'\n",
      " 'Charmander' 'Charmander' 'Charmander' 'Charmander' 'Charmander'\n",
      " 'Charmander' 'Charmander' 'Charmander' 'Charmander' 'Charmander'\n",
      " 'Charmander' 'Charmander' 'Charmander' 'Charmander' 'Charmander'\n",
      " 'Charmander' 'Charmander' 'Charmander' 'Charmander' 'Charmander'\n",
      " 'Charmander' 'Charmander' 'Charmander' 'Charmander' 'Charmander'\n",
      " 'Charmander' 'Charmander' 'Charmander' 'Charmander' 'Charmander'\n",
      " 'Charmander' 'Charmander' 'Charmander' 'Charmander' 'Charmander'\n",
      " 'Charmander' 'Charmander' 'Charmander' 'Charmander' 'Charmander'\n",
      " 'Charmander' 'Charmander' 'Charmander' 'Charmander' 'Charmander'\n",
      " 'Charmander' 'Charmander' 'Charmander' 'Charmander' 'Charmander'\n",
      " 'Charmander' 'Charmander' 'Charmander' 'Charmander' 'Charmander'\n",
      " 'Charmander' 'Charmander' 'Charmander' 'Charmander']\n"
     ]
    }
   ],
   "source": [
    "print (Y)"
   ]
  },
  {
   "cell_type": "code",
   "execution_count": null,
   "id": "16aeac39-e5d5-472d-acec-290ecf2e0302",
   "metadata": {},
   "outputs": [],
   "source": []
  },
  {
   "cell_type": "code",
   "execution_count": null,
   "id": "b41db6f2-65c6-4de5-a955-c1ece58b7bfd",
   "metadata": {},
   "outputs": [],
   "source": []
  },
  {
   "cell_type": "code",
   "execution_count": null,
   "id": "b466042f-34e6-4440-a514-ba68fe3d809a",
   "metadata": {},
   "outputs": [],
   "source": []
  },
  {
   "cell_type": "code",
   "execution_count": 11,
   "id": "5cf045cb-2095-4b9b-b3cd-f87cdebf0471",
   "metadata": {},
   "outputs": [],
   "source": [
    "import cv2 as cv\n",
    "\n",
    "    "
   ]
  },
  {
   "cell_type": "code",
   "execution_count": null,
   "id": "6ac31392-99c4-4a58-ad15-fb3a52192fae",
   "metadata": {},
   "outputs": [],
   "source": []
  },
  {
   "cell_type": "code",
   "execution_count": 4,
   "id": "fb0d7525-726f-435f-bc28-a2d5145776c4",
   "metadata": {},
   "outputs": [],
   "source": [
    "path=\"Train/Images/\""
   ]
  },
  {
   "cell_type": "code",
   "execution_count": 5,
   "id": "5c4dee4e-10a4-48c5-a7d5-18d2d51b7dac",
   "metadata": {},
   "outputs": [],
   "source": [
    "folder=glob.glob(path+\"*.jpg\")"
   ]
  },
  {
   "cell_type": "code",
   "execution_count": 85,
   "id": "2b371163-52e7-42d1-b11a-f3d1c0e97c18",
   "metadata": {},
   "outputs": [],
   "source": [
    "image_list=[]"
   ]
  },
  {
   "cell_type": "code",
   "execution_count": 86,
   "id": "3a94886d-354f-46d5-bbf7-caf5841ef569",
   "metadata": {},
   "outputs": [],
   "source": [
    "label_list=[]"
   ]
  },
  {
   "cell_type": "code",
   "execution_count": 87,
   "id": "8d31676a-c89a-4f13-ae6b-44501a86e723",
   "metadata": {},
   "outputs": [
    {
     "name": "stderr",
     "output_type": "stream",
     "text": [
      "C:\\Users\\taran\\AppData\\Roaming\\Python\\Python39\\site-packages\\PIL\\Image.py:975: UserWarning: Palette images with Transparency expressed in bytes should be converted to RGBA images\n",
      "  warnings.warn(\n"
     ]
    }
   ],
   "source": [
    "for i in folder:\n",
    "    img = image.load_img(i,target_size=(30,30))\n",
    "    if img is None:\n",
    "        print(i)\n",
    "    # img=image.load_img(i),\n",
    "    img_arr=image.img_to_array(img)\n",
    "    image_list.append(img_arr)\n",
    "    label=str(i.split(\"\\\\\")[-1][:])\n",
    "    label_list.append([label])\n",
    "    \n",
    "\n"
   ]
  },
  {
   "cell_type": "code",
   "execution_count": 100,
   "id": "ca630415-7eb3-42b5-ba92-6e43ce477d03",
   "metadata": {},
   "outputs": [],
   "source": [
    "image_list=np.array(image_list,dtype='float32')/255.0"
   ]
  },
  {
   "cell_type": "code",
   "execution_count": 101,
   "id": "7e32da67-4c8a-47b9-8abf-6d53ced70997",
   "metadata": {},
   "outputs": [
    {
     "name": "stdout",
     "output_type": "stream",
     "text": [
      "(304, 30, 30, 3)\n"
     ]
    }
   ],
   "source": [
    "print(image_list.shape)"
   ]
  },
  {
   "cell_type": "code",
   "execution_count": 90,
   "id": "ae9c4396-cbf8-4f74-8aed-ff9856648637",
   "metadata": {},
   "outputs": [
    {
     "data": {
      "text/plain": [
       "<matplotlib.image.AxesImage at 0x17c461897c0>"
      ]
     },
     "execution_count": 90,
     "metadata": {},
     "output_type": "execute_result"
    },
    {
     "data": {
      "image/png": "[encoded data removed]",
      "text/plain": [
       "<Figure size 432x288 with 1 Axes>"
      ]
     },
     "metadata": {
      "needs_background": "light"
     },
     "output_type": "display_data"
    }
   ],
   "source": [
    "plt.imshow(image_list[282])\n"
   ]
  },
  {
   "cell_type": "code",
   "execution_count": 91,
   "id": "a9dd2973-e7ab-4696-b3d7-3bb048b54ed1",
   "metadata": {},
   "outputs": [],
   "source": [
    "label_list=np.array(label_list)"
   ]
  },
  {
   "cell_type": "code",
   "execution_count": null,
   "id": "a0f359ba-5f76-4593-b3de-e440dde1aa91",
   "metadata": {},
   "outputs": [],
   "source": [
    "print(label_list)"
   ]
  },
  {
   "cell_type": "code",
   "execution_count": 102,
   "id": "ed368359-b25e-44d0-bc7a-ab7124d4cbb4",
   "metadata": {},
   "outputs": [],
   "source": [
    "Y=np.array(Y)"
   ]
  },
  {
   "cell_type": "code",
   "execution_count": null,
   "id": "e504e7bc-9dec-4869-94ad-43403a770f4a",
   "metadata": {},
   "outputs": [],
   "source": []
  },
  {
   "cell_type": "code",
   "execution_count": null,
   "id": "231e4d5b-0ff7-478a-892d-d4c342ad721b",
   "metadata": {},
   "outputs": [],
   "source": []
  },
  {
   "cell_type": "code",
   "execution_count": 94,
   "id": "b54448e5-46ce-45f7-bb0e-5c7a553c97df",
   "metadata": {},
   "outputs": [],
   "source": [
    "import random"
   ]
  },
  {
   "cell_type": "markdown",
   "id": "9ca8c4fa-c30b-4ea3-9a89-679771811e49",
   "metadata": {},
   "source": []
  },
  {
   "cell_type": "code",
   "execution_count": 95,
   "id": "5f1ee320-158a-4130-a33e-56b41209f45d",
   "metadata": {},
   "outputs": [],
   "source": [
    "combined=list(zip(image_list,Y))"
   ]
  },
  {
   "cell_type": "code",
   "execution_count": 96,
   "id": "b378f9b5-39a4-4097-b69f-a34b89f327c0",
   "metadata": {},
   "outputs": [],
   "source": [
    "random.shuffle(combined)"
   ]
  },
  {
   "cell_type": "code",
   "execution_count": 97,
   "id": "a1e6b2d8-bb36-43ca-9ff5-3a9952e26885",
   "metadata": {},
   "outputs": [],
   "source": [
    "image_list,y=zip(*combined)"
   ]
  },
  {
   "cell_type": "code",
   "execution_count": null,
   "id": "aa06dd9d-a9ef-4487-9163-b44a8cdf0866",
   "metadata": {},
   "outputs": [],
   "source": []
  },
  {
   "cell_type": "code",
   "execution_count": 98,
   "id": "076e2490-8941-4d19-80c6-a7355e10a33b",
   "metadata": {},
   "outputs": [],
   "source": [
    "class SVM:\n",
    "    def __init__(self,c=1.0):\n",
    "        self.c=c\n",
    "        self.m=0\n",
    "        self.b=0\n",
    "    def fit(self,x,y,batch_size=100,lr=0.0001,m_itr=500):\n",
    "        n_f=x.shape[1]\n",
    "        n_s=x.shape[0]\n",
    "        \n",
    "        c=self.c\n",
    "        \n",
    "        W=np.zeros(1,n_f)\n",
    "        bias=0\n",
    "        \n",
    "        losses=[]\n",
    "        \n",
    "        for i in range(m_itr):\n",
    "            l=self.hinge_loss(W,bias,x,y)\n",
    "            losses.append(l)\n",
    "            ids=np.arange(n_s)\n",
    "            np.random.shuffle(ids)\n",
    "            \n",
    "            for batch_start in range(0,n_s,n_f):\n",
    "                gw=0\n",
    "                gb=0\n",
    "                \n",
    "                for j in range(batch_start,batch_size+batch_start):\n",
    "                    if j<n_s:\n",
    "                        i=ids[j]\n",
    "                        ti=y[i]*(np.dot(W,x[i].T)+bias)\n",
    "                        \n",
    "                        if ti>1:\n",
    "                            gw+=0\n",
    "                            gb+=0\n",
    "                        else:\n",
    "                            gw+=c*y[i]*x[i]\n",
    "                            gb+=c*y[i]\n",
    "                            \n",
    "                w-=n*w+n*gw\n",
    "                bias+=n*gb\n",
    "            self.w=w\n",
    "            self.b=bias\n",
    "            \n",
    "            return w,bias,losses\n",
    "        \n",
    "        \n",
    "    def hinge_loss(self,W,b,x,y):\n",
    "        loss=0.0\n",
    "        loss+=0.5*np.dot(W,W.T)\n",
    "        m=X.shape[0]\n",
    "        for i in range(m):\n",
    "            ti=y[i]*(np.dot(W,x[i].T)+b)\n",
    "            loss+=self.c*max(0,(1-ti))\n",
    "        return loss[0][0]"
   ]
  },
  {
   "cell_type": "code",
   "execution_count": null,
   "id": "74d6e2c4-a129-4711-abb3-8454bedb1ed2",
   "metadata": {},
   "outputs": [],
   "source": []
  },
  {
   "cell_type": "code",
   "execution_count": 103,
   "id": "42d7e44c-b311-4fb4-9a8e-fe76258149e3",
   "metadata": {},
   "outputs": [
    {
     "name": "stdout",
     "output_type": "stream",
     "text": [
      "(304, 30, 30, 3)\n"
     ]
    }
   ],
   "source": [
    "print(image_list.shape)"
   ]
  },
  {
   "cell_type": "code",
   "execution_count": 104,
   "id": "57ba4735-6edb-40ac-81dc-ab88859510a6",
   "metadata": {},
   "outputs": [
    {
     "name": "stdout",
     "output_type": "stream",
     "text": [
      "(304,)\n"
     ]
    }
   ],
   "source": [
    "print(Y.shape)"
   ]
  },
  {
   "cell_type": "code",
   "execution_count": null,
   "id": "fb7d0fba-2eba-4a3a-9e8f-360b5cbebc94",
   "metadata": {},
   "outputs": [],
   "source": []
  },
  {
   "cell_type": "code",
   "execution_count": null,
   "id": "05fe1cd1-3246-4d20-aa8e-80a841c2cc72",
   "metadata": {},
   "outputs": [],
   "source": []
  }
 ],
 "metadata": {
  "kernelspec": {
   "display_name": "Python 3 (ipykernel)",
   "language": "python",
   "name": "python3"
  },
  "language_info": {
   "codemirror_mode": {
    "name": "ipython",
    "version": 3
   },
   "file_extension": ".py",
   "mimetype": "text/x-python",
   "name": "python",
   "nbconvert_exporter": "python",
   "pygments_lexer": "ipython3",
   "version": "3.9.7"
  }
 },
 "nbformat": 4,
 "nbformat_minor": 5
}
